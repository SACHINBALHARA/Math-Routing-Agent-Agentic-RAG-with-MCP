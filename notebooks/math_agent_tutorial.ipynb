{
 "cells": [
  {
   "cell_type": "markdown",
   "id": "7fff4442",
   "metadata": {},
   "source": [
    "# Math Agent Tutorial\n",
    "\n",
    "This notebook demonstrates how to use our intelligent math agent to solve various mathematical problems. The agent uses a combination of RAG (Retrieval-Augmented Generation) and symbolic verification to provide accurate, step-by-step solutions.\n",
    "\n",
    "## Setup and Installation\n",
    "\n",
    "First, let's make sure we have all the required dependencies installed and import the necessary modules."
   ]
  },
  {
   "cell_type": "code",
   "execution_count": null,
   "id": "ad0288fc",
   "metadata": {},
   "outputs": [],
   "source": [
    "from src.pipeline.enhanced_pipeline import EnhancedPipeline\n",
    "from src.gateway.ai_gateway import AIGateway\n",
    "\n",
    "# Initialize the pipeline with default settings\n",
    "gateway = AIGateway()\n",
    "pipeline = EnhancedPipeline(gateway)\n",
    "\n",
    "print(\"Math Agent initialized successfully!\")"
   ]
  },
  {
   "cell_type": "markdown",
   "id": "4eb27906",
   "metadata": {},
   "source": [
    "## Simple Equation Solving\n",
    "\n",
    "Let's start with a basic example: solving a linear equation. Our math agent will:\n",
    "1. Parse the equation\n",
    "2. Apply algebraic steps systematically\n",
    "3. Verify the solution symbolically\n",
    "4. Provide a confidence score for the answer"
   ]
  },
  {
   "cell_type": "markdown",
   "id": "ad62b00b",
   "metadata": {},
   "source": [
    "# Math Agent Tutorial\n",
    "\n",
    "This notebook demonstrates the capabilities of our math problem-solving agent that uses RAG (Retrieval-Augmented Generation) and MCP (Model Context Protocol) to provide step-by-step solutions with verification.\n",
    "\n",
    "## Features Demonstrated:\n",
    "- Equation solving with step-by-step solutions\n",
    "- LaTeX formatting for mathematical expressions\n",
    "- Symbolic verification of solutions\n",
    "- MCP tracking and provenance\n",
    "- Confidence scoring"
   ]
  },
  {
   "cell_type": "code",
   "execution_count": null,
   "id": "175dce46",
   "metadata": {},
   "outputs": [],
   "source": [
    "# Import required libraries\n",
    "from src.pipeline.enhanced_pipeline import EnhancedPipeline\n",
    "from src.gateway.ai_gateway import MCPOutput\n",
    "import logging\n",
    "\n",
    "# Set up logging\n",
    "logging.basicConfig(level=logging.INFO)\n",
    "\n",
    "# Initialize the pipeline\n",
    "pipeline = EnhancedPipeline()"
   ]
  },
  {
   "cell_type": "markdown",
   "id": "3f370510",
   "metadata": {},
   "source": [
    "## Simple Equation Solving\n",
    "\n",
    "Let's start with a simple linear equation to demonstrate the basic functionality:"
   ]
  },
  {
   "cell_type": "code",
   "execution_count": null,
   "id": "3959c939",
   "metadata": {},
   "outputs": [],
   "source": [
    "# Solve a simple linear equation\n",
    "equation = \"2x + 3 = 11\"\n",
    "result = pipeline.process_question(equation)\n",
    "\n",
    "# Display the solution\n",
    "print(\"Solution Steps:\")\n",
    "print(\"==============\")\n",
    "for i, step in enumerate(result[\"solution\"][\"steps\"], 1):\n",
    "    print(f\"Step {i}: {step}\")\n",
    "\n",
    "print(\"\\nFinal Answer:\", result[\"solution\"][\"final_answer\"])\n",
    "print(f\"Confidence Score: {result['solution']['confidence']:.2%}\")"
   ]
  },
  {
   "cell_type": "markdown",
   "id": "11eb9d10",
   "metadata": {},
   "source": [
    "## Complex Mathematical Problems\n",
    "\n",
    "Now let's try something more challenging. Our agent can handle various types of mathematical problems:\n",
    "- Quadratic equations\n",
    "- Systems of equations\n",
    "- Word problems\n",
    "- Calculus problems (derivatives and basic integrals)\n",
    "\n",
    "Let's solve a quadratic equation:"
   ]
  },
  {
   "cell_type": "code",
   "execution_count": null,
   "id": "c319f8a6",
   "metadata": {},
   "outputs": [],
   "source": [
    "# Solve a quadratic equation\n",
    "equation = \"x^2 - 5x + 6 = 0\"\n",
    "result = pipeline.process_question(equation)\n",
    "\n",
    "print(\"Solution Steps:\")\n",
    "print(\"==============\")\n",
    "for i, step in enumerate(result[\"solution\"][\"steps\"], 1):\n",
    "    print(f\"Step {i}: {step}\")\n",
    "\n",
    "print(\"\\nFinal Answer:\", result[\"solution\"][\"final_answer\"])\n",
    "print(f\"Confidence Score: {result['solution']['confidence']:.2%}\")\n",
    "\n",
    "# Let's also verify our solutions\n",
    "x_values = result[\"solution\"][\"verification\"][\"x_values\"]\n",
    "for x in x_values:\n",
    "    substituted = x**2 - 5*x + 6\n",
    "    print(f\"\\nVerification for x = {x}:\")\n",
    "    print(f\"{x}^2 - 5({x}) + 6 = {substituted}\")"
   ]
  },
  {
   "cell_type": "markdown",
   "id": "79614820",
   "metadata": {},
   "source": [
    "## Word Problems\n",
    "\n",
    "Our math agent is particularly good at handling word problems. It can:\n",
    "1. Parse the natural language description\n",
    "2. Extract the mathematical relationships\n",
    "3. Set up the appropriate equations\n",
    "4. Solve step by step\n",
    "\n",
    "Let's try a simple word problem:"
   ]
  },
  {
   "cell_type": "code",
   "execution_count": null,
   "id": "9a3529e5",
   "metadata": {},
   "outputs": [],
   "source": [
    "# Word problem example\n",
    "problem = \"\"\"\n",
    "A train travels from city A to city B at an average speed of 60 mph.\n",
    "The return journey is made at 40 mph. If the total journey time is 5 hours,\n",
    "what is the distance between the cities?\n",
    "\"\"\"\n",
    "\n",
    "result = pipeline.process_question(problem)\n",
    "\n",
    "print(\"Solution Analysis:\")\n",
    "print(\"================\")\n",
    "for i, step in enumerate(result[\"solution\"][\"steps\"], 1):\n",
    "    print(f\"Step {i}: {step}\")\n",
    "\n",
    "print(\"\\nFinal Answer:\", result[\"solution\"][\"final_answer\"])\n",
    "print(f\"Confidence Score: {result['solution']['confidence']:.2%}\")"
   ]
  },
  {
   "cell_type": "markdown",
   "id": "8317a6ab",
   "metadata": {},
   "source": [
    "## Conclusion\n",
    "\n",
    "This tutorial has demonstrated the core capabilities of our math agent:\n",
    "- Solving linear equations\n",
    "- Handling quadratic equations with verification\n",
    "- Processing word problems with detailed steps\n",
    "- Providing confidence scores for solutions\n",
    "\n",
    "The agent uses a combination of:\n",
    "- RAG (Retrieval-Augmented Generation) for problem-solving strategies\n",
    "- Symbolic verification for answer checking\n",
    "- Step-by-step solution generation\n",
    "- Confidence scoring based on multiple verification methods\n",
    "\n",
    "For more advanced usage and API documentation, please refer to the project's README.md file."
   ]
  }
 ],
 "metadata": {
  "language_info": {
   "name": "python"
  }
 },
 "nbformat": 4,
 "nbformat_minor": 5
}
